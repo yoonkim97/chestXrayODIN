{
  "nbformat": 4,
  "nbformat_minor": 0,
  "metadata": {
    "colab": {
      "name": "ChestXray.ipynb",
      "provenance": [],
      "toc_visible": true,
      "authorship_tag": "ABX9TyMqD4KDydUhrKabfftZcu7B",
      "include_colab_link": true
    },
    "kernelspec": {
      "name": "python3",
      "display_name": "Python 3"
    }
  },
  "cells": [
    {
      "cell_type": "markdown",
      "metadata": {
        "id": "view-in-github",
        "colab_type": "text"
      },
      "source": [
        "<a href=\"https://colab.research.google.com/github/yoonkim97/chestXrayODIN/blob/master/ChestXray.ipynb\" target=\"_parent\"><img src=\"https://colab.research.google.com/assets/colab-badge.svg\" alt=\"Open In Colab\"/></a>"
      ]
    },
    {
      "cell_type": "markdown",
      "metadata": {
        "id": "T7Tmiz6lckla",
        "colab_type": "text"
      },
      "source": [
        "Load CSV Data for Training"
      ]
    },
    {
      "cell_type": "code",
      "metadata": {
        "id": "N3uWXY5kcpcB",
        "colab_type": "code",
        "colab": {
          "base_uri": "https://localhost:8080/",
          "height": 255
        },
        "outputId": "c6611ff7-5c99-4860-b7ee-1a2d7e456ea4"
      },
      "source": [
        "import pandas as pd \n",
        "df1 = pd.read_csv(\"train_val_list.csv\")\n",
        "print(df1)"
      ],
      "execution_count": 1,
      "outputs": [
        {
          "output_type": "stream",
          "text": [
            "            Image Index  Follow-up #  ...  Pleural_Thickening  Hernia\n",
            "0      00000001_000.png            0  ...                   0       0\n",
            "1      00000001_001.png            1  ...                   0       0\n",
            "2      00000001_002.png            2  ...                   0       0\n",
            "3      00000002_000.png            0  ...                   0       0\n",
            "4      00000004_000.png            0  ...                   0       0\n",
            "...                 ...          ...  ...                 ...     ...\n",
            "86519  00030789_000.png            0  ...                   0       0\n",
            "86520  00030793_000.png            0  ...                   0       0\n",
            "86521  00030795_000.png            0  ...                   1       0\n",
            "86522  00030801_000.png            0  ...                   0       0\n",
            "86523  00030801_001.png            1  ...                   0       0\n",
            "\n",
            "[86524 rows x 25 columns]\n"
          ],
          "name": "stdout"
        }
      ]
    },
    {
      "cell_type": "code",
      "metadata": {
        "id": "uC3Fq61gdWox",
        "colab_type": "code",
        "colab": {
          "base_uri": "https://localhost:8080/",
          "height": 221
        },
        "outputId": "aa57983b-cc81-4ef5-8adb-9a2f9ceddb65"
      },
      "source": [
        "print(df1['No Finding'])"
      ],
      "execution_count": 2,
      "outputs": [
        {
          "output_type": "stream",
          "text": [
            "0        0\n",
            "1        0\n",
            "2        0\n",
            "3        1\n",
            "4        0\n",
            "        ..\n",
            "86519    0\n",
            "86520    0\n",
            "86521    0\n",
            "86522    1\n",
            "86523    0\n",
            "Name: No Finding, Length: 86524, dtype: int64\n"
          ],
          "name": "stdout"
        }
      ]
    },
    {
      "cell_type": "markdown",
      "metadata": {
        "id": "lUolBPF3e8Hc",
        "colab_type": "text"
      },
      "source": [
        "Filter out healthy lungs for Training data"
      ]
    },
    {
      "cell_type": "code",
      "metadata": {
        "id": "VhIA8kaNeOv8",
        "colab_type": "code",
        "colab": {
          "base_uri": "https://localhost:8080/",
          "height": 255
        },
        "outputId": "c0607309-cefb-449f-fd78-eb816db121e0"
      },
      "source": [
        "print(df1[(df1['No Finding'] == 1)])"
      ],
      "execution_count": 3,
      "outputs": [
        {
          "output_type": "stream",
          "text": [
            "            Image Index  Follow-up #  ...  Pleural_Thickening  Hernia\n",
            "3      00000002_000.png            0  ...                   0       0\n",
            "5      00000005_000.png            0  ...                   0       0\n",
            "6      00000005_001.png            1  ...                   0       0\n",
            "7      00000005_002.png            2  ...                   0       0\n",
            "8      00000005_003.png            3  ...                   0       0\n",
            "...                 ...          ...  ...                 ...     ...\n",
            "86491  00030753_009.png            9  ...                   0       0\n",
            "86503  00030770_000.png            0  ...                   0       0\n",
            "86505  00030770_002.png            2  ...                   0       0\n",
            "86506  00030772_000.png            0  ...                   0       0\n",
            "86522  00030801_000.png            0  ...                   0       0\n",
            "\n",
            "[50500 rows x 25 columns]\n"
          ],
          "name": "stdout"
        }
      ]
    },
    {
      "cell_type": "markdown",
      "metadata": {
        "id": "lBP6RN83fAC5",
        "colab_type": "text"
      },
      "source": [
        "Save the filtered out dataframe to a new csv file (Training)\n"
      ]
    },
    {
      "cell_type": "code",
      "metadata": {
        "id": "GNzO5dHkega-",
        "colab_type": "code",
        "colab": {}
      },
      "source": [
        "train_df = df1[(df1['No Finding'] == 1)]\n",
        "train_df.to_csv('train.csv')"
      ],
      "execution_count": 0,
      "outputs": []
    },
    {
      "cell_type": "markdown",
      "metadata": {
        "id": "f8DV5GKXgoT6",
        "colab_type": "text"
      },
      "source": [
        "Load CSV Data for Testing"
      ]
    },
    {
      "cell_type": "code",
      "metadata": {
        "id": "eFgp1NsafPlJ",
        "colab_type": "code",
        "colab": {
          "base_uri": "https://localhost:8080/",
          "height": 255
        },
        "outputId": "5cdf4347-2299-47ad-ad0a-43f76f69e8a6"
      },
      "source": [
        "df2 = pd.read_csv(\"test_list.csv\")\n",
        "print(df2)"
      ],
      "execution_count": 7,
      "outputs": [
        {
          "output_type": "stream",
          "text": [
            "            Image Index  Follow-up #  ...  Pleural_Thickening  Hernia\n",
            "0      00000003_000.png            0  ...                   0       1\n",
            "1      00000003_001.png            1  ...                   0       1\n",
            "2      00000003_002.png            2  ...                   0       1\n",
            "3      00000003_003.png            3  ...                   0       1\n",
            "4      00000003_004.png            4  ...                   0       1\n",
            "...                 ...          ...  ...                 ...     ...\n",
            "25591  00030800_000.png            0  ...                   0       0\n",
            "25592  00030802_000.png            0  ...                   0       0\n",
            "25593  00030803_000.png            0  ...                   0       0\n",
            "25594  00030804_000.png            0  ...                   0       0\n",
            "25595  00030805_000.png            0  ...                   0       0\n",
            "\n",
            "[25596 rows x 25 columns]\n"
          ],
          "name": "stdout"
        }
      ]
    },
    {
      "cell_type": "markdown",
      "metadata": {
        "id": "sCSbYakAgwKY",
        "colab_type": "text"
      },
      "source": [
        "Filter out unhealthy lungs for Testing data"
      ]
    },
    {
      "cell_type": "code",
      "metadata": {
        "id": "jKb4HtXCgl1T",
        "colab_type": "code",
        "colab": {
          "base_uri": "https://localhost:8080/",
          "height": 255
        },
        "outputId": "56dbd023-c96a-4f9b-a334-c8a74936e8fc"
      },
      "source": [
        "print(df2[(df2['No Finding'] == 0)])"
      ],
      "execution_count": 8,
      "outputs": [
        {
          "output_type": "stream",
          "text": [
            "            Image Index  Follow-up #  ...  Pleural_Thickening  Hernia\n",
            "0      00000003_000.png            0  ...                   0       1\n",
            "1      00000003_001.png            1  ...                   0       1\n",
            "2      00000003_002.png            2  ...                   0       1\n",
            "3      00000003_003.png            3  ...                   0       1\n",
            "4      00000003_004.png            4  ...                   0       1\n",
            "...                 ...          ...  ...                 ...     ...\n",
            "25466  00030637_022.png           22  ...                   0       0\n",
            "25467  00030637_023.png           23  ...                   0       0\n",
            "25498  00030674_000.png            0  ...                   0       0\n",
            "25501  00030677_000.png            0  ...                   0       0\n",
            "25516  00030692_000.png            0  ...                   0       0\n",
            "\n",
            "[15735 rows x 25 columns]\n"
          ],
          "name": "stdout"
        }
      ]
    },
    {
      "cell_type": "markdown",
      "metadata": {
        "id": "vteUWjA8g9Hr",
        "colab_type": "text"
      },
      "source": [
        "Save the filtered dataframe to a new CSV file (Testing)"
      ]
    },
    {
      "cell_type": "code",
      "metadata": {
        "id": "3GLm2eSmhAAx",
        "colab_type": "code",
        "colab": {}
      },
      "source": [
        "test_df = df2[(df2['No Finding'] == 0)]\n",
        "test_df.to_csv('test.csv')"
      ],
      "execution_count": 0,
      "outputs": []
    }
  ]
}