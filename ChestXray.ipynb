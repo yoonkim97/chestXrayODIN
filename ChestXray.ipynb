{
  "nbformat": 4,
  "nbformat_minor": 0,
  "metadata": {
    "colab": {
      "name": "ChestXray.ipynb",
      "provenance": [],
      "authorship_tag": "ABX9TyN/qYKzI6p3lCCzT/URqZOl",
      "include_colab_link": true
    },
    "kernelspec": {
      "name": "python3",
      "display_name": "Python 3"
    }
  },
  "cells": [
    {
      "cell_type": "markdown",
      "metadata": {
        "id": "view-in-github",
        "colab_type": "text"
      },
      "source": [
        "<a href=\"https://colab.research.google.com/github/yoonkim97/chestXrayODIN/blob/master/ChestXray.ipynb\" target=\"_parent\"><img src=\"https://colab.research.google.com/assets/colab-badge.svg\" alt=\"Open In Colab\"/></a>"
      ]
    },
    {
      "cell_type": "markdown",
      "metadata": {
        "id": "T7Tmiz6lckla",
        "colab_type": "text"
      },
      "source": [
        "Load CSV Data for Training"
      ]
    },
    {
      "cell_type": "code",
      "metadata": {
        "id": "N3uWXY5kcpcB",
        "colab_type": "code",
        "outputId": "4891b19c-da27-4948-f1bd-4cd4866f9f8b",
        "colab": {
          "base_uri": "https://localhost:8080/",
          "height": 255
        }
      },
      "source": [
        "import pandas as pd \n",
        "df1 = pd.read_csv(\"train_val_list.csv\")\n",
        "print(df1)"
      ],
      "execution_count": 1,
      "outputs": [
        {
          "output_type": "stream",
          "text": [
            "            Image Index  Follow-up #  ...  Pleural_Thickening  Hernia\n",
            "0      00000001_000.png            0  ...                   0       0\n",
            "1      00000001_001.png            1  ...                   0       0\n",
            "2      00000001_002.png            2  ...                   0       0\n",
            "3      00000002_000.png            0  ...                   0       0\n",
            "4      00000004_000.png            0  ...                   0       0\n",
            "...                 ...          ...  ...                 ...     ...\n",
            "86519  00030789_000.png            0  ...                   0       0\n",
            "86520  00030793_000.png            0  ...                   0       0\n",
            "86521  00030795_000.png            0  ...                   1       0\n",
            "86522  00030801_000.png            0  ...                   0       0\n",
            "86523  00030801_001.png            1  ...                   0       0\n",
            "\n",
            "[86524 rows x 25 columns]\n"
          ],
          "name": "stdout"
        }
      ]
    },
    {
      "cell_type": "code",
      "metadata": {
        "id": "uC3Fq61gdWox",
        "colab_type": "code",
        "outputId": "9474bd75-d1a2-4595-e26e-290237efc650",
        "colab": {
          "base_uri": "https://localhost:8080/",
          "height": 221
        }
      },
      "source": [
        "print(df1['No Finding'])"
      ],
      "execution_count": 2,
      "outputs": [
        {
          "output_type": "stream",
          "text": [
            "0        0\n",
            "1        0\n",
            "2        0\n",
            "3        1\n",
            "4        0\n",
            "        ..\n",
            "86519    0\n",
            "86520    0\n",
            "86521    0\n",
            "86522    1\n",
            "86523    0\n",
            "Name: No Finding, Length: 86524, dtype: int64\n"
          ],
          "name": "stdout"
        }
      ]
    },
    {
      "cell_type": "markdown",
      "metadata": {
        "id": "lUolBPF3e8Hc",
        "colab_type": "text"
      },
      "source": [
        "Filter out healthy lungs for Training data"
      ]
    },
    {
      "cell_type": "code",
      "metadata": {
        "id": "VhIA8kaNeOv8",
        "colab_type": "code",
        "outputId": "15e2368b-1a83-4b18-e55e-4fbc58af107b",
        "colab": {
          "base_uri": "https://localhost:8080/",
          "height": 255
        }
      },
      "source": [
        "print(df1[(df1['No Finding'] == 1)])"
      ],
      "execution_count": 3,
      "outputs": [
        {
          "output_type": "stream",
          "text": [
            "            Image Index  Follow-up #  ...  Pleural_Thickening  Hernia\n",
            "3      00000002_000.png            0  ...                   0       0\n",
            "5      00000005_000.png            0  ...                   0       0\n",
            "6      00000005_001.png            1  ...                   0       0\n",
            "7      00000005_002.png            2  ...                   0       0\n",
            "8      00000005_003.png            3  ...                   0       0\n",
            "...                 ...          ...  ...                 ...     ...\n",
            "86491  00030753_009.png            9  ...                   0       0\n",
            "86503  00030770_000.png            0  ...                   0       0\n",
            "86505  00030770_002.png            2  ...                   0       0\n",
            "86506  00030772_000.png            0  ...                   0       0\n",
            "86522  00030801_000.png            0  ...                   0       0\n",
            "\n",
            "[50500 rows x 25 columns]\n"
          ],
          "name": "stdout"
        }
      ]
    },
    {
      "cell_type": "markdown",
      "metadata": {
        "id": "lBP6RN83fAC5",
        "colab_type": "text"
      },
      "source": [
        "Save the filtered out dataframe to a new csv file (Training)\n"
      ]
    },
    {
      "cell_type": "code",
      "metadata": {
        "id": "GNzO5dHkega-",
        "colab_type": "code",
        "colab": {}
      },
      "source": [
        "train_df = df1[(df1['No Finding'] == 1)]\n",
        "train_df.to_csv('train.csv')"
      ],
      "execution_count": 0,
      "outputs": []
    },
    {
      "cell_type": "markdown",
      "metadata": {
        "id": "f8DV5GKXgoT6",
        "colab_type": "text"
      },
      "source": [
        "Load CSV Data for Testing"
      ]
    },
    {
      "cell_type": "code",
      "metadata": {
        "id": "eFgp1NsafPlJ",
        "colab_type": "code",
        "outputId": "424a55e4-4d6d-45b2-f927-3d2029129d4a",
        "colab": {
          "base_uri": "https://localhost:8080/",
          "height": 255
        }
      },
      "source": [
        "df2 = pd.read_csv(\"test_list.csv\")\n",
        "print(df2)"
      ],
      "execution_count": 5,
      "outputs": [
        {
          "output_type": "stream",
          "text": [
            "            Image Index  Follow-up #  ...  Pleural_Thickening  Hernia\n",
            "0      00000003_000.png            0  ...                   0       1\n",
            "1      00000003_001.png            1  ...                   0       1\n",
            "2      00000003_002.png            2  ...                   0       1\n",
            "3      00000003_003.png            3  ...                   0       1\n",
            "4      00000003_004.png            4  ...                   0       1\n",
            "...                 ...          ...  ...                 ...     ...\n",
            "25591  00030800_000.png            0  ...                   0       0\n",
            "25592  00030802_000.png            0  ...                   0       0\n",
            "25593  00030803_000.png            0  ...                   0       0\n",
            "25594  00030804_000.png            0  ...                   0       0\n",
            "25595  00030805_000.png            0  ...                   0       0\n",
            "\n",
            "[25596 rows x 25 columns]\n"
          ],
          "name": "stdout"
        }
      ]
    },
    {
      "cell_type": "markdown",
      "metadata": {
        "id": "sCSbYakAgwKY",
        "colab_type": "text"
      },
      "source": [
        "Filter out unhealthy lungs for Testing data"
      ]
    },
    {
      "cell_type": "code",
      "metadata": {
        "id": "jKb4HtXCgl1T",
        "colab_type": "code",
        "outputId": "2ba2842b-ec27-4808-bd5f-6676c3c20954",
        "colab": {
          "base_uri": "https://localhost:8080/",
          "height": 255
        }
      },
      "source": [
        "print(df2[(df2['No Finding'] == 0)])"
      ],
      "execution_count": 6,
      "outputs": [
        {
          "output_type": "stream",
          "text": [
            "            Image Index  Follow-up #  ...  Pleural_Thickening  Hernia\n",
            "0      00000003_000.png            0  ...                   0       1\n",
            "1      00000003_001.png            1  ...                   0       1\n",
            "2      00000003_002.png            2  ...                   0       1\n",
            "3      00000003_003.png            3  ...                   0       1\n",
            "4      00000003_004.png            4  ...                   0       1\n",
            "...                 ...          ...  ...                 ...     ...\n",
            "25466  00030637_022.png           22  ...                   0       0\n",
            "25467  00030637_023.png           23  ...                   0       0\n",
            "25498  00030674_000.png            0  ...                   0       0\n",
            "25501  00030677_000.png            0  ...                   0       0\n",
            "25516  00030692_000.png            0  ...                   0       0\n",
            "\n",
            "[15735 rows x 25 columns]\n"
          ],
          "name": "stdout"
        }
      ]
    },
    {
      "cell_type": "markdown",
      "metadata": {
        "id": "vteUWjA8g9Hr",
        "colab_type": "text"
      },
      "source": [
        "Save the filtered dataframe to a new CSV file (Testing)"
      ]
    },
    {
      "cell_type": "code",
      "metadata": {
        "id": "3GLm2eSmhAAx",
        "colab_type": "code",
        "colab": {}
      },
      "source": [
        "test_df = df2[(df2['No Finding'] == 0)]\n",
        "test_df.to_csv('test.csv')"
      ],
      "execution_count": 0,
      "outputs": []
    },
    {
      "cell_type": "code",
      "metadata": {
        "id": "opeIkB-Inan4",
        "colab_type": "code",
        "outputId": "55e10ac3-adad-4355-d0b0-7e84d1c11d14",
        "colab": {
          "base_uri": "https://localhost:8080/",
          "height": 54
        }
      },
      "source": [
        "import os \n",
        "# RETRIEVE IMAGES FROM FOLDER\n",
        "path = \"images/\"\n",
        "images = []\n",
        "for file in os.listdir(path):\n",
        "    if file.lower().endswith(\".png\"):\n",
        "        images.append(file)\n",
        "print(images)"
      ],
      "execution_count": 8,
      "outputs": [
        {
          "output_type": "stream",
          "text": [
            "['00000006_000.png', '00000005_000.png', '00000005_007.png', '00000005_003.png', '00000003_007.png', '00000003_005.png', '00000003_002.png', '00000003_006.png', '00000003_001.png', '00000005_002.png', '00000001_000.png', '00000005_004.png', '00000003_003.png', '00000007_000.png', '00000004_000.png', '00000002_000.png', '00000001_001.png']\n"
          ],
          "name": "stdout"
        }
      ]
    },
    {
      "cell_type": "code",
      "metadata": {
        "id": "Ts2tFcaIoX6E",
        "colab_type": "code",
        "outputId": "aa557607-c80e-437f-f333-d88f62ecb5b3",
        "colab": {
          "base_uri": "https://localhost:8080/",
          "height": 255
        }
      },
      "source": [
        "df3 = pd.read_csv('test.csv')\n",
        "print(df3)"
      ],
      "execution_count": 9,
      "outputs": [
        {
          "output_type": "stream",
          "text": [
            "       Unnamed: 0       Image Index  ...  Pleural_Thickening  Hernia\n",
            "0               0  00000003_000.png  ...                   0       1\n",
            "1               1  00000003_001.png  ...                   0       1\n",
            "2               2  00000003_002.png  ...                   0       1\n",
            "3               3  00000003_003.png  ...                   0       1\n",
            "4               4  00000003_004.png  ...                   0       1\n",
            "...           ...               ...  ...                 ...     ...\n",
            "15730       25466  00030637_022.png  ...                   0       0\n",
            "15731       25467  00030637_023.png  ...                   0       0\n",
            "15732       25498  00030674_000.png  ...                   0       0\n",
            "15733       25501  00030677_000.png  ...                   0       0\n",
            "15734       25516  00030692_000.png  ...                   0       0\n",
            "\n",
            "[15735 rows x 26 columns]\n"
          ],
          "name": "stdout"
        }
      ]
    },
    {
      "cell_type": "code",
      "metadata": {
        "id": "e9Cotp1GpAbE",
        "colab_type": "code",
        "outputId": "a4e5ff92-4e4e-40de-9409-cb5fdc926455",
        "colab": {
          "base_uri": "https://localhost:8080/",
          "height": 221
        }
      },
      "source": [
        "print(df3['Image Index'])"
      ],
      "execution_count": 10,
      "outputs": [
        {
          "output_type": "stream",
          "text": [
            "0        00000003_000.png\n",
            "1        00000003_001.png\n",
            "2        00000003_002.png\n",
            "3        00000003_003.png\n",
            "4        00000003_004.png\n",
            "               ...       \n",
            "15730    00030637_022.png\n",
            "15731    00030637_023.png\n",
            "15732    00030674_000.png\n",
            "15733    00030677_000.png\n",
            "15734    00030692_000.png\n",
            "Name: Image Index, Length: 15735, dtype: object\n"
          ],
          "name": "stdout"
        }
      ]
    },
    {
      "cell_type": "code",
      "metadata": {
        "id": "y2HTAyj9qBki",
        "colab_type": "code",
        "colab": {}
      },
      "source": [
        "images_indices = df3['Image Index']"
      ],
      "execution_count": 0,
      "outputs": []
    },
    {
      "cell_type": "code",
      "metadata": {
        "id": "520OyaAlqfk8",
        "colab_type": "code",
        "colab": {}
      },
      "source": [
        "both = []\n",
        "for i in range(len(images)):\n",
        "  for j in range(len(images_indices)):\n",
        "    if (images[i] == str(images_indices[j])):\n",
        "      both.append(images[i])"
      ],
      "execution_count": 0,
      "outputs": []
    },
    {
      "cell_type": "code",
      "metadata": {
        "id": "ni3wa-o_rAEz",
        "colab_type": "code",
        "outputId": "0c604492-7ebf-43c8-e2ef-dc740e548d53",
        "colab": {
          "base_uri": "https://localhost:8080/",
          "height": 306
        }
      },
      "source": [
        "import matplotlib.image as mpimg\n",
        "import matplotlib.pyplot as plt\n",
        "\n",
        "print(both, len(both))\n",
        "for name in both:\n",
        "  img=mpimg.imread('images/' + name)\n",
        "  imgplot = plt.imshow(img)\n",
        "plt.show()"
      ],
      "execution_count": 13,
      "outputs": [
        {
          "output_type": "stream",
          "text": [
            "['00000003_007.png', '00000003_005.png', '00000003_002.png', '00000003_006.png', '00000003_001.png', '00000003_003.png'] 6\n"
          ],
          "name": "stdout"
        },
        {
          "output_type": "display_data",
          "data": {
            "image/png": "[encoded data removed]",
            "text/plain": [
              "<Figure size 432x288 with 1 Axes>"
            ]
          },
          "metadata": {
            "tags": [],
            "needs_background": "light"
          }
        }
      ]
    },
    {
      "cell_type": "code",
      "metadata": {
        "id": "k6eS1n2Fsj6j",
        "colab_type": "code",
        "colab": {}
      },
      "source": [
        "from PIL import Image  \n",
        "import PIL  \n",
        "folderName = 'data/'\n",
        "os.makedirs(folderName)  \n",
        "\n",
        "for name in both: \n",
        "  img = Image.open('images/' + name)\n",
        "  img = img.save(folderName + name )\n"
      ],
      "execution_count": 0,
      "outputs": []
    },
    {
      "cell_type": "code",
      "metadata": {
        "id": "3zIotyzohvJ1",
        "colab_type": "code",
        "colab": {}
      },
      "source": [
        ""
      ],
      "execution_count": 0,
      "outputs": []
    }
  ]
}